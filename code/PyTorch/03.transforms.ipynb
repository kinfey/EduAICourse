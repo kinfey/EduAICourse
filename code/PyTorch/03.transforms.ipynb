{
  "cells": [
    {
      "cell_type": "code",
      "execution_count": 4,
      "metadata": {},
      "outputs": [],
      "source": [
        "%matplotlib inline"
      ]
    },
    {
      "cell_type": "markdown",
      "metadata": {},
      "source": [
        "# Transforms\n",
        "\n",
        "数据并不总是以其所需的最终处理形式出现\n",
        "训练机器学习算法。 我们使用 **transforms** 来执行一些\n",
        "处理数据并使其适合训练。\n",
        "\n",
        "所有 TorchVision 数据集都有两个参数（`transform` 以修改特征和\n",
        "`target_transform` 修改标签）接受包含转换逻辑的可调用对象。\n",
        "[torchvision.transforms](https://pytorch.org/vision/stable/transforms.html) 模块提供\n",
        "几种常用的开箱即用转换。\n",
        "\n",
        "FashionMNIST 特征采用 PIL Image 格式，标签为整数。\n",
        "对于训练，我们需要将特征作为归一化张量，将标签作为单热编码张量。\n",
        "为了进行这些转换，我们使用了 `ToTensor` 和 `Lambda`。"
      ]
    },
    {
      "cell_type": "code",
      "execution_count": 5,
      "metadata": {},
      "outputs": [],
      "source": [
        "from torchvision import datasets\n",
        "from torchvision.transforms import ToTensor, Lambda\n",
        "\n",
        "ds = datasets.FashionMNIST(\n",
        "    root=\"data\",\n",
        "    train=True,\n",
        "    download=True,\n",
        "    transform=ToTensor(),\n",
        "    target_transform=Lambda(lambda y: torch.zeros(10, dtype=torch.float).scatter_(0, torch.tensor(y), value=1))\n",
        ")"
      ]
    },
    {
      "cell_type": "markdown",
      "metadata": {},
      "source": [
        "## ToTensor()\n",
        "\n",
        "[ToTensor](https://pytorch.org/vision/stable/transforms.html#torchvision.transforms.ToTensor)\n",
        "将 PIL 图像或 NumPy `ndarray` 转换为 `FloatTensor` 并在 \\[0., 1.\\] 范围内缩放图像的像素强度值\n",
        "\n",
        "## Lambda 变换\n",
        "\n",
        "Lambda 转换适用于任何用户定义的 lambda 函数。 在这里，我们定义一个函数\n",
        "将整数转换为单热编码张量。\n",
        "它首先创建一个大小为 10（我们数据集中的标签数量）的零张量并调用\n",
        "[scatter](https://pytorch.org/docs/stable/tensors.html#torch.Tensor.scatter_) 分配一个\n",
        "标签“y”给出的索引上的“value=1”。"
      ]
    },
    {
      "cell_type": "code",
      "execution_count": 6,
      "metadata": {},
      "outputs": [],
      "source": [
        "target_transform = Lambda(lambda y: torch.zeros(\n",
        "    10, dtype=torch.float).scatter_(dim=0, index=torch.tensor(y), value=1))"
      ]
    },
    {
      "cell_type": "markdown",
      "metadata": {},
      "source": [
        "--------------\n",
        "\n",
        "\n"
      ]
    },
    {
      "cell_type": "code",
      "execution_count": 7,
      "metadata": {},
      "outputs": [
        {
          "name": "stdout",
          "output_type": "stream",
          "text": [
            "Lambda()\n"
          ]
        }
      ],
      "source": [
        "print(target_transform)"
      ]
    }
  ],
  "metadata": {
    "interpreter": {
      "hash": "eec8323f1fd0687cc16c170f83e009bfe267a929289f6367d1c75a585500211d"
    },
    "kernel_info": {
      "name": "conda-env-py37_pytorch-py"
    },
    "kernelspec": {
      "display_name": "Python 3.8.10 64-bit ('pydev': conda)",
      "name": "python3"
    },
    "language_info": {
      "codemirror_mode": {
        "name": "ipython",
        "version": 3
      },
      "file_extension": ".py",
      "mimetype": "text/x-python",
      "name": "python",
      "nbconvert_exporter": "python",
      "pygments_lexer": "ipython3",
      "version": "3.8.10"
    },
    "nteract": {
      "version": "nteract-front-end@1.0.0"
    }
  },
  "nbformat": 4,
  "nbformat_minor": 1
}
