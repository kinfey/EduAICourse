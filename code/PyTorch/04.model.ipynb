{
  "cells": [
    {
      "cell_type": "code",
      "execution_count": 1,
      "metadata": {},
      "outputs": [],
      "source": [
        "%matplotlib inline"
      ]
    },
    {
      "cell_type": "markdown",
      "metadata": {},
      "source": [
        "# 构建神经网络\n",
        "\n",
        "神经网络由对数据执行操作的层/模块组成。\n",
        "[torch.nn](https://pytorch.org/docs/stable/nn.html) 命名空间提供了您需要的所有构建块\n",
        "建立自己的神经网络。 PyTorch 中的每个模块都是 [nn.Module](https://pytorch.org/docs/stable/generated/torch.nn.Module.html) 的子类。\n",
        "神经网络是一个模块本身，由其他模块（层）组成。 这种嵌套结构允许\n",
        "轻松构建和管理复杂的架构。\n",
        "\n",
        "在以下部分中，我们将构建一个神经网络来对 FashionMNIST 数据集中的图像进行分类。"
      ]
    },
    {
      "cell_type": "code",
      "execution_count": 2,
      "metadata": {},
      "outputs": [],
      "source": [
        "import os\n",
        "import torch\n",
        "from torch import nn\n",
        "from torch.utils.data import DataLoader\n",
        "from torchvision import datasets, transforms"
      ]
    },
    {
      "cell_type": "markdown",
      "metadata": {},
      "source": [
        "## Get a hardware device for training\n",
        "\n",
        "We want to be able to train our model on a hardware accelerator like the GPU, \n",
        "if it is available. Let's check to see if \n",
        "[torch.cuda](https://pytorch.org/docs/stable/notes/cuda.html) is available, else we \n",
        "continue to use the CPU."
      ]
    },
    {
      "cell_type": "code",
      "execution_count": 3,
      "metadata": {},
      "outputs": [
        {
          "name": "stdout",
          "output_type": "stream",
          "text": [
            "Using cpu device\n"
          ]
        }
      ],
      "source": [
        "device = 'cuda' if torch.cuda.is_available() else 'cpu'\n",
        "print('Using {} device'.format(device))"
      ]
    },
    {
      "cell_type": "markdown",
      "metadata": {},
      "source": [
        "## 定义类\n",
        "\n",
        "我们通过子类化 `nn.Module` 来定义我们的神经网络，并且\n",
        "在 `__init__` 中初始化神经网络层。 每个 `nn.Module` 子类都实现\n",
        "`forward` 方法中对输入数据的操作。"
      ]
    },
    {
      "cell_type": "code",
      "execution_count": 4,
      "metadata": {},
      "outputs": [],
      "source": [
        "class NeuralNetwork(nn.Module):\n",
        "    def __init__(self):\n",
        "        super(NeuralNetwork, self).__init__()\n",
        "        self.flatten = nn.Flatten()\n",
        "        self.linear_relu_stack = nn.Sequential(\n",
        "            nn.Linear(28*28, 512),\n",
        "            nn.ReLU(),\n",
        "            nn.Linear(512, 512),\n",
        "            nn.ReLU(),\n",
        "            nn.Linear(512, 10),\n",
        "            nn.ReLU()\n",
        "        )\n",
        "\n",
        "    def forward(self, x):\n",
        "        x = self.flatten(x)\n",
        "        logits = self.linear_relu_stack(x)\n",
        "        return logits"
      ]
    },
    {
      "cell_type": "markdown",
      "metadata": {},
      "source": [
        "我们创建一个“神经网络”的实例，并将其移动到“设备”，并打印它的结构。\n",
        "\n"
      ]
    },
    {
      "cell_type": "code",
      "execution_count": 5,
      "metadata": {},
      "outputs": [
        {
          "name": "stdout",
          "output_type": "stream",
          "text": [
            "NeuralNetwork(\n",
            "  (flatten): Flatten()\n",
            "  (linear_relu_stack): Sequential(\n",
            "    (0): Linear(in_features=784, out_features=512, bias=True)\n",
            "    (1): ReLU()\n",
            "    (2): Linear(in_features=512, out_features=512, bias=True)\n",
            "    (3): ReLU()\n",
            "    (4): Linear(in_features=512, out_features=10, bias=True)\n",
            "    (5): ReLU()\n",
            "  )\n",
            ")\n"
          ]
        }
      ],
      "source": [
        "model = NeuralNetwork().to(device)\n",
        "print(model)"
      ]
    },
    {
      "cell_type": "markdown",
      "metadata": {},
      "source": [
        "为了使用模型，我们将输入数据传递给它。 这将执行模型的 `forward`，\n",
        "以及一些[后台操作]（https://github.com/pytorch/pytorch/blob/270111b7b611d174967ed204776985cefca9c144/torch/nn/modules/module.py#L866）。\n",
        "不要直接调用`model.forward()`！\n",
        "\n",
        "在输入上调用模型会返回一个 10 维张量，其中包含每个类的原始预测值。\n",
        "我们通过将其传递给 `nn.Softmax` 模块的一个实例来获得预测密度。"
      ]
    },
    {
      "cell_type": "code",
      "execution_count": 6,
      "metadata": {},
      "outputs": [
        {
          "name": "stdout",
          "output_type": "stream",
          "text": [
            "Predicted class: tensor([5])\n"
          ]
        }
      ],
      "source": [
        "X = torch.rand(1, 28, 28, device=device)\n",
        "logits = model(X) \n",
        "pred_probab = nn.Softmax(dim=1)(logits)\n",
        "y_pred = pred_probab.argmax(1)\n",
        "print(f\"Predicted class: {y_pred}\")"
      ]
    },
    {
      "cell_type": "markdown",
      "metadata": {},
      "source": [
        "## 模型层\n",
        "\n",
        "我们初始化 [nn.Flatten](https://pytorch.org/docs/stable/generated/torch.nn.Flatten.html)\n",
        "层将每个 28x28 的 2D 图像转换为 784 个像素值的连续数组（保持小批量维度（dim=0））。\n",
        "\n"
      ]
    },
    {
      "cell_type": "code",
      "execution_count": 7,
      "metadata": {},
      "outputs": [
        {
          "name": "stdout",
          "output_type": "stream",
          "text": [
            "torch.Size([3, 28, 28])\n"
          ]
        }
      ],
      "source": [
        "input_image = torch.rand(3,28,28)\n",
        "print(input_image.size())"
      ]
    },
    {
      "cell_type": "code",
      "execution_count": null,
      "metadata": {},
      "outputs": [],
      "source": []
    },
    {
      "cell_type": "markdown",
      "metadata": {},
      "source": [
        "### nn.Flatten\n",
        "\n",
        "[线性层](https://pytorch.org/docs/stable/generated/torch.nn.Linear.html)\n",
        "是一个模块，它使用存储的权重和偏差对输入应用线性变换。\n",
        "\n"
      ]
    },
    {
      "cell_type": "code",
      "execution_count": 8,
      "metadata": {},
      "outputs": [
        {
          "name": "stdout",
          "output_type": "stream",
          "text": [
            "torch.Size([3, 784])\n"
          ]
        }
      ],
      "source": [
        "flatten = nn.Flatten()\n",
        "flat_image = flatten(input_image)\n",
        "print(flat_image.size())"
      ]
    },
    {
      "cell_type": "markdown",
      "metadata": {},
      "source": [
        "### nn.Linear \n",
        "\n",
        "The [linear layer](https://pytorch.org/docs/stable/generated/torch.nn.Linear.html)\n",
        "is a module that applies a linear transformation on the input using it's stored weights and biases."
      ]
    },
    {
      "cell_type": "code",
      "execution_count": 9,
      "metadata": {},
      "outputs": [
        {
          "name": "stdout",
          "output_type": "stream",
          "text": [
            "torch.Size([3, 20])\n"
          ]
        }
      ],
      "source": [
        "layer1 = nn.Linear(in_features=28*28, out_features=20)\n",
        "hidden1 = layer1(flat_image)\n",
        "print(hidden1.size())"
      ]
    },
    {
      "cell_type": "markdown",
      "metadata": {},
      "source": [
        "### nn.ReLU\n",
        "\n",
        "非线性激活是在模型的输入和输出之间创建复杂映射的原因。\n",
        "它们在线性变换后应用以引入*非线性*，帮助神经网络\n",
        "学习各种各样的现象。\n",
        "\n",
        "在这个模型中，我们在我们之间使用 [nn.ReLU](https://pytorch.org/docs/stable/generated/torch.nn.ReLU.html)\n",
        "线性层，但还有其他激活可以在您的模型中引入非线性。"
      ]
    },
    {
      "cell_type": "code",
      "execution_count": 10,
      "metadata": {},
      "outputs": [
        {
          "name": "stdout",
          "output_type": "stream",
          "text": [
            "Before ReLU: tensor([[ 0.2620,  0.5372, -0.3142,  0.5595, -0.0338, -0.2578, -0.1453,  0.0142,\n",
            "         -0.3144, -0.1978,  0.1119, -0.4031, -0.5338, -0.2112,  0.0843, -0.1039,\n",
            "         -0.6157, -0.3176,  0.2991,  0.3278],\n",
            "        [ 0.0082,  0.2950, -0.3428,  0.2677,  0.1682, -0.1624,  0.0630,  0.2772,\n",
            "         -0.3598, -0.1056,  0.3218, -0.0650, -0.7976, -0.1417,  0.1265, -0.2078,\n",
            "         -0.6100, -0.1949,  0.5933,  0.6934],\n",
            "        [ 0.0833,  0.5182, -0.4482,  0.1808, -0.1582, -0.3140, -0.1534,  0.1163,\n",
            "         -0.0906, -0.2653,  0.4350,  0.0649, -0.8912, -0.3647,  0.2512, -0.1568,\n",
            "         -0.2083, -0.1839,  0.2909, -0.1341]], grad_fn=<AddmmBackward>)\n",
            "\n",
            "\n",
            "After ReLU: tensor([[0.2620, 0.5372, 0.0000, 0.5595, 0.0000, 0.0000, 0.0000, 0.0142, 0.0000,\n",
            "         0.0000, 0.1119, 0.0000, 0.0000, 0.0000, 0.0843, 0.0000, 0.0000, 0.0000,\n",
            "         0.2991, 0.3278],\n",
            "        [0.0082, 0.2950, 0.0000, 0.2677, 0.1682, 0.0000, 0.0630, 0.2772, 0.0000,\n",
            "         0.0000, 0.3218, 0.0000, 0.0000, 0.0000, 0.1265, 0.0000, 0.0000, 0.0000,\n",
            "         0.5933, 0.6934],\n",
            "        [0.0833, 0.5182, 0.0000, 0.1808, 0.0000, 0.0000, 0.0000, 0.1163, 0.0000,\n",
            "         0.0000, 0.4350, 0.0649, 0.0000, 0.0000, 0.2512, 0.0000, 0.0000, 0.0000,\n",
            "         0.2909, 0.0000]], grad_fn=<ReluBackward0>)\n"
          ]
        }
      ],
      "source": [
        "print(f\"Before ReLU: {hidden1}\\n\\n\")\n",
        "hidden1 = nn.ReLU()(hidden1)\n",
        "print(f\"After ReLU: {hidden1}\")"
      ]
    },
    {
      "cell_type": "markdown",
      "metadata": {},
      "source": [
        "### nn.Sequential\n",
        "\n",
        "[nn.Sequential](https://pytorch.org/docs/stable/generated/torch.nn.Sequential.html) 是有序的\n",
        "模块的容器。 数据按照定义的相同顺序通过所有模块。 您可以使用\n",
        "顺序容器将快速网络组合在一起，如“seq_modules”。\n",
        "\n"
      ]
    },
    {
      "cell_type": "code",
      "execution_count": 11,
      "metadata": {},
      "outputs": [],
      "source": [
        "seq_modules = nn.Sequential(\n",
        "    flatten,\n",
        "    layer1,\n",
        "    nn.ReLU(),\n",
        "    nn.Linear(20, 10)\n",
        ")\n",
        "input_image = torch.rand(3,28,28)\n",
        "logits = seq_modules(input_image)"
      ]
    },
    {
      "cell_type": "markdown",
      "metadata": {},
      "source": [
        "### nn.Softmax\n",
        "\n",
        "神经网络的最后一个线性层返回 `logits` - \\[`-infty`, `infty`] 中的原始值 - 这些值被传递给\n",
        "[nn.Softmax](https://pytorch.org/docs/stable/generated/torch.nn.Softmax.html) 模块。 logits 被缩放到值 \\[0, 1\\] 代表模型对每个类别的预测密度。 `dim` 参数指示值必须总和为 1 的维度。"
      ]
    },
    {
      "cell_type": "code",
      "execution_count": 12,
      "metadata": {},
      "outputs": [],
      "source": [
        "softmax = nn.Softmax(dim=1)\n",
        "pred_probab = softmax(logits)"
      ]
    },
    {
      "cell_type": "markdown",
      "metadata": {},
      "source": [
        "## 神经网络内的许多层都是*参数化的*，即具有相关的权重\n",
        "和在训练期间优化的偏差。 自动子类化`nn.Module`\n",
        "跟踪模型对象中定义的所有字段，并使所有参数\n",
        "可以使用模型的`parameters()` 或`named_parameters()` 方法访问。\n",
        "\n",
        "在这个例子中，我们迭代每个参数，并打印它的大小和它的值的预览。\n"
      ]
    },
    {
      "cell_type": "markdown",
      "metadata": {},
      "source": []
    },
    {
      "cell_type": "code",
      "execution_count": 13,
      "metadata": {},
      "outputs": [
        {
          "name": "stdout",
          "output_type": "stream",
          "text": [
            "Model structure:  NeuralNetwork(\n",
            "  (flatten): Flatten()\n",
            "  (linear_relu_stack): Sequential(\n",
            "    (0): Linear(in_features=784, out_features=512, bias=True)\n",
            "    (1): ReLU()\n",
            "    (2): Linear(in_features=512, out_features=512, bias=True)\n",
            "    (3): ReLU()\n",
            "    (4): Linear(in_features=512, out_features=10, bias=True)\n",
            "    (5): ReLU()\n",
            "  )\n",
            ") \n",
            "\n",
            "\n",
            "Layer: linear_relu_stack.0.weight | Size: torch.Size([512, 784]) | Values : tensor([[-0.0318,  0.0107,  0.0324,  ...,  0.0006, -0.0194, -0.0082],\n",
            "        [ 0.0058, -0.0337,  0.0020,  ...,  0.0117, -0.0323,  0.0208]],\n",
            "       grad_fn=<SliceBackward>) \n",
            "\n",
            "Layer: linear_relu_stack.0.bias | Size: torch.Size([512]) | Values : tensor([-0.0105,  0.0231], grad_fn=<SliceBackward>) \n",
            "\n",
            "Layer: linear_relu_stack.2.weight | Size: torch.Size([512, 512]) | Values : tensor([[-0.0344,  0.0338,  0.0201,  ..., -0.0415,  0.0139,  0.0285],\n",
            "        [ 0.0307, -0.0436, -0.0363,  ..., -0.0211, -0.0438, -0.0257]],\n",
            "       grad_fn=<SliceBackward>) \n",
            "\n",
            "Layer: linear_relu_stack.2.bias | Size: torch.Size([512]) | Values : tensor([0.0100, 0.0370], grad_fn=<SliceBackward>) \n",
            "\n",
            "Layer: linear_relu_stack.4.weight | Size: torch.Size([10, 512]) | Values : tensor([[-0.0265,  0.0437, -0.0243,  ..., -0.0427,  0.0404, -0.0439],\n",
            "        [-0.0261,  0.0104, -0.0144,  ...,  0.0060, -0.0047,  0.0058]],\n",
            "       grad_fn=<SliceBackward>) \n",
            "\n",
            "Layer: linear_relu_stack.4.bias | Size: torch.Size([10]) | Values : tensor([-0.0184,  0.0364], grad_fn=<SliceBackward>) \n",
            "\n"
          ]
        }
      ],
      "source": [
        "print(\"Model structure: \", model, \"\\n\\n\")\n",
        "\n",
        "for name, param in model.named_parameters():\n",
        "    print(f\"Layer: {name} | Size: {param.size()} | Values : {param[:2]} \\n\")"
      ]
    },
    {
      "cell_type": "markdown",
      "metadata": {},
      "source": [
        "--------------\n",
        "\n",
        "\n"
      ]
    }
  ],
  "metadata": {
    "interpreter": {
      "hash": "eec8323f1fd0687cc16c170f83e009bfe267a929289f6367d1c75a585500211d"
    },
    "kernelspec": {
      "display_name": "Python 3.8.10 64-bit ('pydev': conda)",
      "name": "python3"
    },
    "language_info": {
      "codemirror_mode": {
        "name": "ipython",
        "version": 3
      },
      "file_extension": ".py",
      "mimetype": "text/x-python",
      "name": "python",
      "nbconvert_exporter": "python",
      "pygments_lexer": "ipython3",
      "version": "3.8.10"
    },
    "nteract": {
      "version": "nteract-front-end@1.0.0"
    }
  },
  "nbformat": 4,
  "nbformat_minor": 1
}
