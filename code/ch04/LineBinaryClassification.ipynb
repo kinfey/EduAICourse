{
 "cells": [
  {
   "cell_type": "code",
   "execution_count": 11,
   "source": [
    "import matplotlib.pyplot as plt\r\n",
    "import numpy as np\r\n",
    "from sklearn import datasets,linear_model\r\n",
    "import time"
   ],
   "outputs": [],
   "metadata": {}
  },
  {
   "cell_type": "code",
   "execution_count": 12,
   "source": [
    "a=time.time()\r\n",
    "diabetes=datasets.load_diabetes()"
   ],
   "outputs": [],
   "metadata": {}
  },
  {
   "cell_type": "code",
   "execution_count": 13,
   "source": [
    "diabetes_X=diabetes.data[:,np.newaxis,2]"
   ],
   "outputs": [],
   "metadata": {}
  },
  {
   "cell_type": "code",
   "execution_count": 14,
   "source": [
    "diabetes_X_train=diabetes_X[:-20]\r\n",
    "diabetes_X_test=diabetes_X[-20:]"
   ],
   "outputs": [],
   "metadata": {}
  },
  {
   "cell_type": "code",
   "execution_count": 15,
   "source": [
    "diabetes_y_train=diabetes.target[:-20]\r\n",
    "diabetes_y_test=diabetes.target[-20:]"
   ],
   "outputs": [],
   "metadata": {}
  },
  {
   "cell_type": "code",
   "execution_count": 16,
   "source": [
    "regr=linear_model.LogisticRegression()\r\n",
    "regr.fit(diabetes_X_train,diabetes_y_train)"
   ],
   "outputs": [
    {
     "output_type": "execute_result",
     "data": {
      "text/plain": [
       "LogisticRegression()"
      ]
     },
     "metadata": {},
     "execution_count": 16
    }
   ],
   "metadata": {}
  },
  {
   "cell_type": "code",
   "execution_count": 17,
   "source": [
    "print('Coefficients:\\n',regr.coef_)"
   ],
   "outputs": [
    {
     "output_type": "stream",
     "name": "stdout",
     "text": [
      "Coefficients:\n",
      " [[-1.09889627e-02]\n",
      " [-8.83828754e-03]\n",
      " [-6.36805947e-02]\n",
      " [-6.48464609e-02]\n",
      " [-3.89477661e-02]\n",
      " [-1.27029134e-01]\n",
      " [-3.14203911e-02]\n",
      " [-2.38626384e-03]\n",
      " [-6.26052536e-02]\n",
      " [-6.69923474e-02]\n",
      " [-6.59194041e-02]\n",
      " [-9.38159768e-02]\n",
      " [-3.67970872e-02]\n",
      " [-1.03476697e-01]\n",
      " [ 2.25633425e-02]\n",
      " [-1.46208540e-01]\n",
      " [-3.35710693e-02]\n",
      " [-1.03480809e-01]\n",
      " [-2.49683582e-02]\n",
      " [-1.37662957e-01]\n",
      " [-5.95837968e-02]\n",
      " [-1.54912316e-02]\n",
      " [-1.85732096e-01]\n",
      " [-1.02399557e-01]\n",
      " [-1.61163353e-01]\n",
      " [-2.49683582e-02]\n",
      " [ 6.21643034e-03]\n",
      " [-7.12690187e-03]\n",
      " [-5.95837968e-02]\n",
      " [-2.40747278e-02]\n",
      " [-1.57842224e-01]\n",
      " [-2.82547927e-01]\n",
      " [ 2.99042057e-03]\n",
      " [-7.23570661e-02]\n",
      " [-9.38159768e-02]\n",
      " [-2.02823485e-01]\n",
      " [-6.05635837e-03]\n",
      " [-6.69066187e-02]\n",
      " [-1.74409899e-02]\n",
      " [-1.87100416e-02]\n",
      " [-1.32381976e-01]\n",
      " [-4.68672670e-02]\n",
      " [ 1.72225692e-02]\n",
      " [-5.93792305e-02]\n",
      " [-8.30865142e-02]\n",
      " [-1.21640039e-01]\n",
      " [-8.63053515e-02]\n",
      " [-9.70899170e-02]\n",
      " [ 1.42839272e-02]\n",
      " [-2.94394177e-02]\n",
      " [-8.41594598e-02]\n",
      " [-1.02399557e-01]\n",
      " [ 5.63951864e-02]\n",
      " [-1.63299760e-01]\n",
      " [-8.74580270e-02]\n",
      " [-2.60436969e-02]\n",
      " [-1.54912316e-02]\n",
      " [-8.83828754e-03]\n",
      " [-1.81628366e-01]\n",
      " [-1.13111773e-01]\n",
      " [ 6.02798858e-04]\n",
      " [-1.37734822e-01]\n",
      " [-1.76371048e-02]\n",
      " [-3.03450521e-02]\n",
      " [ 1.18817887e-02]\n",
      " [ 3.60095516e-02]\n",
      " [-6.91382344e-02]\n",
      " [-2.10439869e-02]\n",
      " [-4.64751447e-02]\n",
      " [-6.37735179e-02]\n",
      " [-8.30865142e-02]\n",
      " [-4.24549580e-02]\n",
      " [ 9.07287692e-02]\n",
      " [ 5.42493325e-02]\n",
      " [ 1.91508383e-03]\n",
      " [-5.51899790e-02]\n",
      " [-3.57217478e-02]\n",
      " [-5.61227536e-03]\n",
      " [-3.05123561e-02]\n",
      " [ 2.14951884e-02]\n",
      " [ 8.93122804e-03]\n",
      " [ 4.71308082e-02]\n",
      " [ 5.99831633e-02]\n",
      " [-8.30865142e-02]\n",
      " [-9.27430299e-02]\n",
      " [ 5.78324974e-02]\n",
      " [-3.58770502e-02]\n",
      " [-4.23146879e-02]\n",
      " [ 1.34779999e-02]\n",
      " [ 5.74681131e-02]\n",
      " [ 1.10631593e-01]\n",
      " [-5.20875678e-03]\n",
      " [-4.33876281e-02]\n",
      " [ 4.07219186e-02]\n",
      " [ 2.77231454e-02]\n",
      " [-3.67970872e-02]\n",
      " [ 3.95518262e-02]\n",
      " [-2.06670045e-02]\n",
      " [ 1.32046513e-04]\n",
      " [ 5.38937342e-02]\n",
      " [-2.71190356e-02]\n",
      " [-6.58312773e-02]\n",
      " [-3.14203911e-02]\n",
      " [ 3.17178324e-02]\n",
      " [-2.28176812e-02]\n",
      " [-1.28150354e-01]\n",
      " [-4.33876281e-02]\n",
      " [-8.83828754e-03]\n",
      " [-5.83038896e-02]\n",
      " [ 2.74261108e-02]\n",
      " [ 4.45929831e-02]\n",
      " [ 4.17024945e-02]\n",
      " [ 3.74011576e-02]\n",
      " [-6.27954602e-02]\n",
      " [-6.27954602e-02]\n",
      " [-1.85163280e-02]\n",
      " [-1.54307000e-03]\n",
      " [ 1.69697915e-02]\n",
      " [ 5.42493325e-02]\n",
      " [ 4.49284964e-02]\n",
      " [-8.83828754e-03]\n",
      " [-8.41324217e-03]\n",
      " [-4.01688081e-02]\n",
      " [ 1.19697615e-01]\n",
      " [-6.48464609e-02]\n",
      " [ 2.28482348e-02]\n",
      " [ 3.52504888e-02]\n",
      " [-7.99243644e-02]\n",
      " [ 5.99831633e-02]\n",
      " [ 5.35311649e-02]\n",
      " [-5.07765054e-02]\n",
      " [-4.66064493e-02]\n",
      " [ 1.77697289e-02]\n",
      " [ 5.35311649e-02]\n",
      " [ 4.27778286e-02]\n",
      " [ 2.63531801e-02]\n",
      " [ 1.02592016e-02]\n",
      " [ 6.88811519e-02]\n",
      " [-2.60436969e-02]\n",
      " [-2.47934451e-02]\n",
      " [ 1.48191199e-02]\n",
      " [ 5.67441233e-02]\n",
      " [-5.08982130e-02]\n",
      " [ 3.20244849e-02]\n",
      " [-2.81943744e-02]\n",
      " [ 9.44243945e-03]\n",
      " [ 1.58944557e-02]\n",
      " [-1.18464600e-01]\n",
      " [ 5.99831633e-02]\n",
      " [-1.42149760e-02]\n",
      " [ 5.96139661e-02]\n",
      " [-2.62206033e-02]\n",
      " [ 1.52381707e-01]\n",
      " [ 4.92298313e-02]\n",
      " [ 2.98738153e-02]\n",
      " [ 4.24471261e-02]\n",
      " [ 8.39747020e-04]\n",
      " [ 4.56659114e-02]\n",
      " [ 6.71244469e-02]\n",
      " [ 1.15405940e-01]\n",
      " [ 2.09885242e-02]\n",
      " [ 3.41751542e-02]\n",
      " [ 1.32572623e-01]\n",
      " [-2.06670045e-02]\n",
      " [ 2.44444902e-01]\n",
      " [ 1.57249665e-01]\n",
      " [ 2.98738153e-02]\n",
      " [ 6.17598184e-02]\n",
      " [ 5.85410396e-02]\n",
      " [ 4.53294766e-02]\n",
      " [ 5.14109382e-03]\n",
      " [-1.35501674e-02]\n",
      " [-3.89477661e-02]\n",
      " [ 6.92702973e-02]\n",
      " [ 1.56663751e-01]\n",
      " [ 1.94131493e-01]\n",
      " [ 8.47157991e-02]\n",
      " [ 1.24050672e-02]\n",
      " [ 1.51885097e-01]\n",
      " [ 8.79417923e-02]\n",
      " [ 6.35285076e-02]\n",
      " [ 7.46349207e-02]\n",
      " [ 1.36864288e-01]\n",
      " [ 1.00385063e-01]\n",
      " [ 1.80451272e-02]\n",
      " [ 9.54691070e-02]\n",
      " [ 2.99205649e-01]\n",
      " [ 1.05177757e-02]\n",
      " [ 7.46349207e-02]\n",
      " [ 8.79417923e-02]\n",
      " [ 4.92298313e-02]\n",
      " [ 1.80647005e-01]\n",
      " [ 1.88426608e-02]\n",
      " [ 6.96611558e-02]\n",
      " [-1.44182953e-02]\n",
      " [ 5.35311649e-02]\n",
      " [ 7.07364880e-02]\n",
      " [ 3.09491501e-02]\n",
      " [ 1.37437839e-02]\n",
      " [ 2.77231454e-02]\n",
      " [ 5.56818313e-02]\n",
      " [ 8.47157991e-02]\n",
      " [ 1.26653659e-01]\n",
      " [ 9.39475350e-02]\n",
      " [ 5.14109382e-03]\n",
      " [ 4.70791640e-02]\n",
      " [ 1.04071748e-01]\n",
      " [ 7.61131476e-02]\n",
      " [ 1.10523726e-01]\n",
      " [ 1.24503002e-01]\n",
      " [ 1.59988801e-01]]\n"
     ]
    }
   ],
   "metadata": {}
  },
  {
   "cell_type": "code",
   "execution_count": 18,
   "source": [
    "print('the mean sqare error:%.2f' %np.mean((regr.predict(diabetes_X_test)-diabetes_y_test)**2))\r\n",
    "print('Variance score:%.2f' %regr.score(diabetes_X_test,diabetes_y_test))"
   ],
   "outputs": [
    {
     "output_type": "stream",
     "name": "stdout",
     "text": [
      "the mean sqare error:10277.60\n",
      "Variance score:0.00\n"
     ]
    }
   ],
   "metadata": {}
  },
  {
   "cell_type": "code",
   "execution_count": 19,
   "source": [
    "plt.scatter(diabetes_X_test,diabetes_y_test,color='black')\r\n",
    "plt.plot(diabetes_X_test,regr.predict(diabetes_X_test),color='blue',linewidth=3)\r\n",
    "plt.xticks()\r\n",
    "plt.yticks()\r\n",
    "b=time.time()\r\n",
    "print('the running time is %.2f' %(b-a))\r\n",
    "plt.show()"
   ],
   "outputs": [
    {
     "output_type": "stream",
     "name": "stdout",
     "text": [
      "the running time is 125.47\n"
     ]
    },
    {
     "output_type": "display_data",
     "data": {
      "image/png": "[encoded data removed]",
      "text/plain": [
       "<Figure size 432x288 with 1 Axes>"
      ]
     },
     "metadata": {
      "needs_background": "light"
     }
    }
   ],
   "metadata": {}
  }
 ],
 "metadata": {
  "orig_nbformat": 4,
  "language_info": {
   "name": "python",
   "version": "3.8.8",
   "mimetype": "text/x-python",
   "codemirror_mode": {
    "name": "ipython",
    "version": 3
   },
   "pygments_lexer": "ipython3",
   "nbconvert_exporter": "python",
   "file_extension": ".py"
  },
  "kernelspec": {
   "name": "python3",
   "display_name": "Python 3.8.8 64-bit"
  },
  "interpreter": {
   "hash": "cd6c2d5b6def59a78dd4f60b7bebd73224da0fafd12459c3daf7ca8dc9395e3f"
  }
 },
 "nbformat": 4,
 "nbformat_minor": 2
}