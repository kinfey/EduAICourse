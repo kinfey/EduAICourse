{
 "cells": [
  {
   "cell_type": "code",
   "execution_count": 1,
   "metadata": {},
   "outputs": [],
   "source": [
    "import torch\n",
    "import numpy as np\n",
    "import matplotlib.pyplot as plt\n",
    "\n",
    "from sklearn.datasets import load_breast_cancer"
   ]
  },
  {
   "cell_type": "code",
   "execution_count": 2,
   "metadata": {},
   "outputs": [],
   "source": [
    "data = load_breast_cancer()\n",
    "X, Y = data.data, data.target"
   ]
  },
  {
   "cell_type": "code",
   "execution_count": 3,
   "metadata": {},
   "outputs": [
    {
     "name": "stdout",
     "output_type": "stream",
     "text": [
      "['mean radius' 'mean texture' 'mean perimeter' 'mean area'\n",
      " 'mean smoothness' 'mean compactness' 'mean concavity'\n",
      " 'mean concave points' 'mean symmetry' 'mean fractal dimension'\n",
      " 'radius error' 'texture error' 'perimeter error' 'area error'\n",
      " 'smoothness error' 'compactness error' 'concavity error'\n",
      " 'concave points error' 'symmetry error' 'fractal dimension error'\n",
      " 'worst radius' 'worst texture' 'worst perimeter' 'worst area'\n",
      " 'worst smoothness' 'worst compactness' 'worst concavity'\n",
      " 'worst concave points' 'worst symmetry' 'worst fractal dimension']\n",
      "['malignant' 'benign']\n"
     ]
    }
   ],
   "source": [
    "print(data.feature_names)\n",
    "print(data.target_names)"
   ]
  },
  {
   "cell_type": "code",
   "execution_count": 4,
   "metadata": {},
   "outputs": [],
   "source": [
    "from sklearn.model_selection import train_test_split\n",
    "\n",
    "X_train, X_test, y_train, y_test = train_test_split(X, Y, test_size=0.2)"
   ]
  },
  {
   "cell_type": "code",
   "execution_count": 5,
   "metadata": {},
   "outputs": [],
   "source": [
    "from sklearn.preprocessing import StandardScaler\n",
    "\n",
    "scaler = StandardScaler()\n",
    "X_train = scaler.fit_transform(X_train)\n",
    "X_test = scaler.transform(X_test)"
   ]
  },
  {
   "cell_type": "code",
   "execution_count": 6,
   "metadata": {},
   "outputs": [
    {
     "name": "stdout",
     "output_type": "stream",
     "text": [
      "(114, 30)\n"
     ]
    }
   ],
   "source": [
    "print(X_test.shape)\n"
   ]
  },
  {
   "cell_type": "code",
   "execution_count": 7,
   "metadata": {},
   "outputs": [],
   "source": [
    "class BinaryClassification(torch.nn.Module):\n",
    "  def __init__(self, input_dimension):\n",
    "    super().__init__()\n",
    "    self.linear = torch.nn.Linear(input_dimension, 1)\n",
    "\n",
    "  def forward(self, input_dimension):\n",
    "      return self.linear(input_dimension)"
   ]
  },
  {
   "cell_type": "code",
   "execution_count": 8,
   "metadata": {},
   "outputs": [],
   "source": [
    "_, input_dimension = X_train.shape"
   ]
  },
  {
   "cell_type": "code",
   "execution_count": 9,
   "metadata": {},
   "outputs": [],
   "source": [
    "model = torch.nn.Linear(input_dimension, 1)"
   ]
  },
  {
   "cell_type": "code",
   "execution_count": 10,
   "metadata": {},
   "outputs": [],
   "source": [
    "def configure_loss_function(): \n",
    "  return torch.nn.BCEWithLogitsLoss()"
   ]
  },
  {
   "cell_type": "code",
   "execution_count": 11,
   "metadata": {},
   "outputs": [],
   "source": [
    "def configure_optimizer(model):\n",
    "  return torch.optim.Adam(model.parameters())"
   ]
  },
  {
   "cell_type": "code",
   "execution_count": 12,
   "metadata": {},
   "outputs": [],
   "source": [
    "def full_gd(model, criterion, optimizer, X_train, y_train, n_epochs=2000):\n",
    "  train_losses = np.zeros(n_epochs)\n",
    "  test_losses = np.zeros(n_epochs)\n",
    "\n",
    "  for it in range(n_epochs): \n",
    "    outputs = model(X_train)\n",
    "    loss = criterion(outputs, y_train)\n",
    "    optimizer.zero_grad()\n",
    "    loss.backward()\n",
    "    optimizer.step()\n",
    "\n",
    "    outputs_test = model(X_test)\n",
    "    loss_test = criterion(outputs_test, y_test)\n",
    "\n",
    "    train_losses[it] = loss.item()\n",
    "    test_losses[it] = loss_test.item()\n",
    "\n",
    "    if (it + 1) % 50 == 0:\n",
    "      print(f'In this epoch {it+1}/{n_epochs}, Training loss: {loss.item():.4f}, Test loss: {loss_test.item():.4f}')\n",
    "\n",
    "  return train_losses, test_losses"
   ]
  },
  {
   "cell_type": "code",
   "execution_count": 13,
   "metadata": {},
   "outputs": [],
   "source": [
    "X_train = torch.from_numpy(X_train.astype(np.float32))\n",
    "X_test = torch.from_numpy(X_test.astype(np.float32))\n",
    "y_train = torch.from_numpy(y_train.astype(np.float32)).reshape(-1, 1)\n",
    "y_test = torch.from_numpy(y_test.astype(np.float32)).reshape(-1, 1)"
   ]
  },
  {
   "cell_type": "code",
   "execution_count": 14,
   "metadata": {},
   "outputs": [
    {
     "name": "stdout",
     "output_type": "stream",
     "text": [
      "In this epoch 50/2000, Training loss: 0.4403, Test loss: 0.4317\n",
      "In this epoch 100/2000, Training loss: 0.3284, Test loss: 0.3220\n",
      "In this epoch 150/2000, Training loss: 0.2675, Test loss: 0.2608\n",
      "In this epoch 200/2000, Training loss: 0.2290, Test loss: 0.2218\n",
      "In this epoch 250/2000, Training loss: 0.2021, Test loss: 0.1951\n",
      "In this epoch 300/2000, Training loss: 0.1822, Test loss: 0.1758\n",
      "In this epoch 350/2000, Training loss: 0.1669, Test loss: 0.1615\n",
      "In this epoch 400/2000, Training loss: 0.1546, Test loss: 0.1506\n",
      "In this epoch 450/2000, Training loss: 0.1447, Test loss: 0.1421\n",
      "In this epoch 500/2000, Training loss: 0.1364, Test loss: 0.1353\n",
      "In this epoch 550/2000, Training loss: 0.1294, Test loss: 0.1298\n",
      "In this epoch 600/2000, Training loss: 0.1234, Test loss: 0.1253\n",
      "In this epoch 650/2000, Training loss: 0.1182, Test loss: 0.1216\n",
      "In this epoch 700/2000, Training loss: 0.1136, Test loss: 0.1186\n",
      "In this epoch 750/2000, Training loss: 0.1095, Test loss: 0.1160\n",
      "In this epoch 800/2000, Training loss: 0.1059, Test loss: 0.1139\n",
      "In this epoch 850/2000, Training loss: 0.1026, Test loss: 0.1122\n",
      "In this epoch 900/2000, Training loss: 0.0997, Test loss: 0.1107\n",
      "In this epoch 950/2000, Training loss: 0.0970, Test loss: 0.1095\n",
      "In this epoch 1000/2000, Training loss: 0.0946, Test loss: 0.1085\n",
      "In this epoch 1050/2000, Training loss: 0.0923, Test loss: 0.1076\n",
      "In this epoch 1100/2000, Training loss: 0.0903, Test loss: 0.1070\n",
      "In this epoch 1150/2000, Training loss: 0.0883, Test loss: 0.1065\n",
      "In this epoch 1200/2000, Training loss: 0.0866, Test loss: 0.1060\n",
      "In this epoch 1250/2000, Training loss: 0.0849, Test loss: 0.1057\n",
      "In this epoch 1300/2000, Training loss: 0.0834, Test loss: 0.1055\n",
      "In this epoch 1350/2000, Training loss: 0.0819, Test loss: 0.1054\n",
      "In this epoch 1400/2000, Training loss: 0.0806, Test loss: 0.1053\n",
      "In this epoch 1450/2000, Training loss: 0.0793, Test loss: 0.1053\n",
      "In this epoch 1500/2000, Training loss: 0.0781, Test loss: 0.1053\n",
      "In this epoch 1550/2000, Training loss: 0.0769, Test loss: 0.1054\n",
      "In this epoch 1600/2000, Training loss: 0.0759, Test loss: 0.1055\n",
      "In this epoch 1650/2000, Training loss: 0.0749, Test loss: 0.1057\n",
      "In this epoch 1700/2000, Training loss: 0.0739, Test loss: 0.1059\n",
      "In this epoch 1750/2000, Training loss: 0.0730, Test loss: 0.1061\n",
      "In this epoch 1800/2000, Training loss: 0.0721, Test loss: 0.1063\n",
      "In this epoch 1850/2000, Training loss: 0.0713, Test loss: 0.1066\n",
      "In this epoch 1900/2000, Training loss: 0.0705, Test loss: 0.1069\n",
      "In this epoch 1950/2000, Training loss: 0.0697, Test loss: 0.1072\n",
      "In this epoch 2000/2000, Training loss: 0.0690, Test loss: 0.1075\n"
     ]
    }
   ],
   "source": [
    "criterion = configure_loss_function()\n",
    "optimizer = configure_optimizer(model)\n",
    "train_losses, test_losses = full_gd(model, criterion, optimizer, X_train, y_train)"
   ]
  },
  {
   "cell_type": "code",
   "execution_count": 15,
   "metadata": {},
   "outputs": [
    {
     "data": {
      "image/png": "[encoded data removed]",
      "text/plain": [
       "<Figure size 432x288 with 1 Axes>"
      ]
     },
     "metadata": {
      "needs_background": "light"
     },
     "output_type": "display_data"
    }
   ],
   "source": [
    "plt.plot(train_losses, label = 'train loss')\n",
    "plt.plot(test_losses, label = 'test loss')\n",
    "plt.legend()\n",
    "plt.show()"
   ]
  },
  {
   "cell_type": "code",
   "execution_count": 16,
   "metadata": {},
   "outputs": [],
   "source": [
    "with torch.no_grad():\n",
    "  p_train = model(X_train)\n",
    "  p_train = (p_train.numpy() > 0)\n",
    "\n",
    "  train_acc = np.mean(y_train.numpy() == p_train)\n",
    "\n",
    "  p_test = model(X_test)\n",
    "  p_test = (p_test.numpy() > 0)\n",
    "  \n",
    "  test_acc = np.mean(y_test.numpy() == p_test)"
   ]
  },
  {
   "cell_type": "code",
   "execution_count": 17,
   "metadata": {},
   "outputs": [
    {
     "name": "stdout",
     "output_type": "stream",
     "text": [
      "0.9846153846153847\n",
      "0.956140350877193\n"
     ]
    }
   ],
   "source": [
    "print(train_acc)\n",
    "print(test_acc)"
   ]
  }
 ],
 "metadata": {
  "interpreter": {
   "hash": "82f1cf4c281cab90794d57a9753ced65abcf10e305350b912a77a2456f8d88f6"
  },
  "kernelspec": {
   "display_name": "Python 3.8.10 64-bit ('pydev': pyenv)",
   "language": "python",
   "name": "python3"
  },
  "language_info": {
   "codemirror_mode": {
    "name": "ipython",
    "version": 3
   },
   "file_extension": ".py",
   "mimetype": "text/x-python",
   "name": "python",
   "nbconvert_exporter": "python",
   "pygments_lexer": "ipython3",
   "version": "3.8.10"
  },
  "orig_nbformat": 4
 },
 "nbformat": 4,
 "nbformat_minor": 2
}
